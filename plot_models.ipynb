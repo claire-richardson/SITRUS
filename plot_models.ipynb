{
 "cells": [
  {
   "cell_type": "markdown",
   "id": "075ec27d-d4d9-46d9-aff6-169806431d58",
   "metadata": {},
   "source": [
    "# Jupyter notebook to plot global SITRUS models"
   ]
  },
  {
   "cell_type": "markdown",
   "id": "7bda9acd-39f7-4ce3-8d79-4926fb6bb50d",
   "metadata": {},
   "source": [
    "### import necessary libraries/modules; declare block and shell files, lat and lon systems\n",
    "(don't need to modify)"
   ]
  },
  {
   "cell_type": "code",
   "execution_count": null,
   "id": "e058609b-01fa-4bd7-8c7d-3c0ea0893aee",
   "metadata": {
    "jupyter": {
     "source_hidden": true
    }
   },
   "outputs": [],
   "source": [
    "import mod_plot\n",
    "import mod_input\n",
    "import numpy as np\n",
    "import pandas as pd\n",
    "import mod_database\n",
    "import mod_refmodels\n",
    "import matplotlib as mpl\n",
    "import cartopy.crs as ccrs\n",
    "import matplotlib.pyplot as plt\n",
    "import matplotlib.patches as mpatches\n",
    "\n",
    "all_shells = pd.read_csv('shell_dimensions.csv')['SHELL#']\n",
    "all_blocks = pd.read_csv('block_dimensions.csv')['BLOCK#']\n",
    "    "
   ]
  },
  {
   "cell_type": "markdown",
   "id": "2fe05190-7fef-46a5-bb69-bd0b3cfb2ebf",
   "metadata": {},
   "source": [
    "### define variables for plotting\n",
    "modify these according to desired final plot"
   ]
  },
  {
   "cell_type": "code",
   "execution_count": null,
   "id": "43e91499-b226-4e5e-98c8-b55faabb8ee4",
   "metadata": {},
   "outputs": [],
   "source": [
    "# model info\n",
    "model_to_plot = 'GLAD-M25_vsh' # name of model to plot (should match directory name in ./models/{wavetype}/{model}_update/\n",
    "type_of_model = 'S' # either 'S' or 'P'\n",
    "model_pid = 3087153 # PID of desired model\n",
    "layer = 'layer_2_shell_2_to_31' # name of layer directory of model to plot\n",
    "iteration = 'iteration_5' # name of iteration directory of model to plot\n",
    "\n",
    "# plot construction\n",
    "shells_to_plot = [2, 6, 13, 18, 21, 25, 30] # list of depth shells to plot\n",
    "central_lon = 135. # longitude at which to center the map\n",
    "coastline_transparency = 0.4 # alpha value for the coastlines\n",
    "plot_increment = 1\n",
    "\n",
    "# colorbar(s):\n",
    "tomography_colormap = 'RdBu' #'seismic_r' #(colormap code from https://matplotlib.org/stable/users/explain/colors/colormaps.html)\n",
    "perturbation_colorbar_max = 5. # maximum perturbation for the colorbar of the plotted models\n",
    "perturbation_colorbar_min = -5. # minimum perturbation for the colorbar of the plotted models\n",
    "colorbar_points = 'both' # 'neither', 'both', 'min', or 'max'. indication of the appearance of the ends of the colorbar\n",
    "bar_val = 5.\n",
    "\n",
    "# smoothing radii\n",
    "smoothing_radii_colormap = mpl.cm.viridis\n",
    "\n",
    "# coverage:\n",
    "phases_to_plot = ['ScS_H', 'ScSScS_H', 'Sdiff_H', 'S_H']\n",
    "total_coverage_bins = [1, 10, 20, 30, 40, 50, 60, 70, 80, 90, 100]\n",
    "coverage_colormap = mpl.cm.Oranges\n",
    "azimuthal_colormap = mpl.cm.Purples\n",
    "\n",
    "# title/annotation info\n",
    "model_title = f'{model_to_plot.split(\"_\")[0]} updated with SITRUS' # title to display at the top of the plot\n",
    "model_title_fontsize = 18.\n"
   ]
  },
  {
   "cell_type": "code",
   "execution_count": null,
   "id": "2e230268-d34f-4eae-ae16-3085fc235ce4",
   "metadata": {
    "jupyter": {
     "source_hidden": true
    }
   },
   "outputs": [],
   "source": [
    "# other stuff (lat/lon systems, labels, don't modify)\n",
    "y = np.arange(-90, 90, plot_increment)\n",
    "x = np.arange(-180, 180, plot_increment)\n",
    "lats = np.arange(-90, 90 + plot_increment, plot_increment)\n",
    "lons = np.arange(-180, 180 + plot_increment, plot_increment)\n",
    "if type_of_model == 'S':\n",
    "    model_header = 'dVs_%'\n",
    "elif type_of_model == 'P':\n",
    "    model_header = 'dVp_%'"
   ]
  },
  {
   "cell_type": "markdown",
   "id": "49f85b45-968a-411d-8f72-b53f0cce3d32",
   "metadata": {},
   "source": [
    "## define boolean variables for saving the plot\n",
    "modify these if to `True` to save the plots on disk.\n",
    "\n",
    "individual SITRUS updated model figures will be saved to the following path with the indicated extension:\n",
    "`./models/{type_of_model}/{model_to_plot}_update/{model_pid}_update/{model_to_plot}_{perturbation_colorbar_max}%_to_{perturbation_colorbar_min}%`\n",
    "\n",
    "starting/difference/solution SITRUS updated model figures will be saved to the following path with the indicated extension:\n",
    "`./models/{type_of_model}/{model_to_plot}_update/{model_pid}_update/{model_to_plot}_starting_difference_solution_{perturbation_colorbar_max}%_to_{perturbation_colorbar_min}%`\n",
    "\n",
    "coverage for SITRUS updated model figures will be saved to the following path with the indicated extension:\n",
    "`./models/{type_of_model}/{model_to_plot}_update/{model_pid}_update/{model_to_plot}_coverage`"
   ]
  },
  {
   "cell_type": "code",
   "execution_count": null,
   "id": "eafceaf9-d1cd-4b85-b2db-041d4a2ed967",
   "metadata": {},
   "outputs": [],
   "source": [
    "save_png = False # save the plot as a PNG file\n",
    "save_svg = False # save the plot as an SVG file"
   ]
  },
  {
   "cell_type": "markdown",
   "id": "342e6b97-69ea-4c32-8933-e6dab7c10274",
   "metadata": {},
   "source": [
    "## plot the individual model"
   ]
  },
  {
   "cell_type": "code",
   "execution_count": null,
   "id": "a1c53a93-8d58-4647-a459-ab86388d1e0d",
   "metadata": {
    "jupyter": {
     "source_hidden": true
    },
    "scrolled": true
   },
   "outputs": [],
   "source": [
    "%%time\n",
    "# define dimensions of the figure and each subplot\n",
    "fig = plt.figure(figsize = (7.5, 2 * len(shells_to_plot)), constrained_layout = True)\n",
    "plot_idx = 1\n",
    "\n",
    "# define the colormap\n",
    "model_colormap = tomography_colormap\n",
    "\n",
    "for shell_to_plot in shells_to_plot:\n",
    "    shell_dims = mod_database.get_shell_info(shell_to_plot)\n",
    "    shell_top_depth = shell_dims[1]\n",
    "    shell_bottom_depth = shell_dims[3]\n",
    "\n",
    "    df_shell = pd.read_csv(f'./models/{type_of_model}/{model_to_plot}_update/{model_pid}_update/{layer}/{iteration}/{model_to_plot}_updated_model_itr_{iteration.split(\"_\")[-1]}.csv')\n",
    "    df_shell = df_shell.loc[df_shell['SHELL#'] == shell_to_plot].copy()\n",
    "    dv = mod_plot.shell_grid_register(df_shell, model_header, plot_increment, plot_increment)\n",
    "\n",
    "    ax1 = fig.add_subplot(len(shells_to_plot), 1, plot_idx, projection = ccrs.Robinson(central_longitude = central_lon))\n",
    "    ax1.set_global()\n",
    "    im1 = ax1.pcolormesh(lons, lats, dv, shading = 'flat', transform = ccrs.PlateCarree(), cmap = model_colormap, vmin = -bar_val, vmax = bar_val)\n",
    "    ax1.coastlines(alpha = coastline_transparency)\n",
    "    ax1.annotate(f'{shell_top_depth} km - \\n{shell_bottom_depth} km', va = 'center', xy = (-0.325, 0.5), xycoords = 'axes fraction', fontsize = 12)\n",
    "    plot_idx += 1\n",
    "    \n",
    "fig.suptitle(f'{model_title}', fontsize = 18, fontweight = 'bold')\n",
    "\n",
    "# tomography colorbar info:\n",
    "cbar_tomo = fig.colorbar(im1, orientation = 'horizontal', ax = ax1, shrink = 0.4, pad = 0.1, extend = colorbar_points)\n",
    "if type_of_model == 'S':\n",
    "    cbar_tomo.ax.set_xlabel('dVs (%)', size = 12)\n",
    "elif type_of_model == 'P':\n",
    "    cbar_tomo.ax.set_xlabel('dVp (%)', size = 12)\n",
    "\n",
    "if save_png == True:\n",
    "    fig.savefig(f'./models/{type_of_model}/{model_to_plot}_update/{model_pid}_update/{model_to_plot}_{perturbation_colorbar_max}%_to_{perturbation_colorbar_min}%.png')\n",
    "if save_svg == True:\n",
    "    fig.savefig(f'./models/{type_of_model}/{model_to_plot}_update/{model_pid}_update/{model_to_plot}_{perturbation_colorbar_max}%_to_{perturbation_colorbar_min}%.svg')\n"
   ]
  },
  {
   "cell_type": "code",
   "execution_count": null,
   "id": "5c32acf1-3bff-4aac-b0c4-63ae9dfccf30",
   "metadata": {
    "jupyter": {
     "source_hidden": true
    },
    "scrolled": true
   },
   "outputs": [],
   "source": [
    "%%time\n",
    "# define dimensions of the figure and each subplot\n",
    "fig = plt.figure(figsize = (7.5, 2 * len(shells_to_plot)), constrained_layout = True)\n",
    "plot_idx = 1\n",
    "df_radius = pd.read_csv(f'./models/{type_of_model}/{model_to_plot}_update/{model_pid}_update/{layer}/smoothing_radii.csv')\n",
    "radii_bins = list(np.sort(df_radius.RADIUS.unique().astype(int)))\n",
    "max_bar = int(df_radius.RADIUS.unique().max() + 1)\n",
    "radii_bins.append(max_bar)\n",
    "rad_norm = mpl.colors.BoundaryNorm(radii_bins, smoothing_radii_colormap.N)\n",
    "\n",
    "# define the colormap\n",
    "model_colormap = tomography_colormap\n",
    "\n",
    "for shell_to_plot in shells_to_plot:\n",
    "    shell_dims = mod_database.get_shell_info(shell_to_plot)\n",
    "    shell_top_depth = shell_dims[1]\n",
    "    shell_bottom_depth = shell_dims[3]\n",
    "\n",
    "    df_shell = df_radius.loc[df_radius['SHELL#'] == shell_to_plot].copy()\n",
    "    radii = mod_plot.shell_grid_register(df_shell, 'RADIUS', plot_increment, plot_increment) + 0.11\n",
    "\n",
    "    ax1 = fig.add_subplot(len(shells_to_plot), 1, plot_idx, projection = ccrs.Robinson(central_longitude = central_lon))\n",
    "    ax1.set_global()\n",
    "    im1 = ax1.pcolormesh(lons, lats, radii, transform = ccrs.PlateCarree(), cmap = smoothing_radii_colormap, norm = rad_norm)\n",
    "    ax1.coastlines(alpha = coastline_transparency)\n",
    "    ax1.annotate(f'{shell_top_depth} km - \\n{shell_bottom_depth} km', va = 'center', xy = (-0.325, 0.5), xycoords = 'axes fraction', fontsize = 12)\n",
    "    plot_idx += 1\n",
    "    \n",
    "fig.suptitle(f'Smoothing radii', fontsize = 18, fontweight = 'bold')\n",
    "\n",
    "# colorbar\n",
    "rad_cbar_coverage = fig.colorbar(im1, ax = ax1, orientation = 'horizontal', shrink = 0.4, pad = 0.1, extend = 'neither')\n",
    "rad_cbar_coverage.set_ticks(list(np.array(radii_bins)[:-1] + 0.5))\n",
    "rad_cbar_coverage.set_ticklabels(radii_bins[:-1])\n",
    "rad_cbar_coverage.ax.tick_params(labelsize = 10, size = 0)\n",
    "rad_cbar_coverage.ax.set_xlabel('smoothing radius (deg.)', size = 12);\n",
    "\n",
    "if save_png == True:\n",
    "    fig.savefig(f'./models/{type_of_model}/{model_to_plot}_update/{model_pid}_update/{model_to_plot}_smoothing_radii.png')\n",
    "if save_svg == True:\n",
    "    fig.savefig(f'./models/{type_of_model}/{model_to_plot}_update/{model_pid}_update/{model_to_plot}_smoothing_radii.svg')"
   ]
  },
  {
   "cell_type": "code",
   "execution_count": null,
   "id": "a62111dc-a118-4d9c-844a-29627c8e0854",
   "metadata": {
    "jupyter": {
     "source_hidden": true
    },
    "scrolled": true
   },
   "outputs": [],
   "source": [
    "%%time\n",
    "# define dimensions of the figure and each subplot\n",
    "fig = plt.figure(figsize = (8, 2 * len(shells_to_plot)), constrained_layout = True)\n",
    "plot_idx = 1\n",
    "\n",
    "cov_norm = mpl.colors.BoundaryNorm(total_coverage_bins, coverage_colormap.N)\n",
    "sector_bins = list(range(0, mod_input.azimuthal_sectors + 2, 1))\n",
    "sector_norm = mpl.colors.BoundaryNorm(sector_bins, azimuthal_colormap.N)\n",
    "\n",
    "for shell_to_plot in shells_to_plot:\n",
    "    shell_dims = mod_database.get_shell_info(shell_to_plot)\n",
    "    shell_top_depth = shell_dims[1]\n",
    "    shell_bottom_depth = shell_dims[3]\n",
    "\n",
    "    tot_cov = mod_plot.shell_coverage_mesh(phases_to_plot, shell_to_plot, 'TOTAL_PATHS', plot_increment, plot_increment)\n",
    "    az_cov = mod_plot.shell_coverage_mesh(phases_to_plot, shell_to_plot, 'TOTAL_SECTORS', plot_increment, plot_increment)\n",
    "\n",
    "    ax1 = fig.add_subplot(len(shells_to_plot), 2, plot_idx, projection = ccrs.Robinson(central_longitude = central_lon))\n",
    "    ax1.set_global()\n",
    "    im1 = ax1.pcolormesh(lons, lats, tot_cov, transform = ccrs.PlateCarree(), cmap = coverage_colormap, norm = cov_norm)\n",
    "    ax1.coastlines(alpha = coastline_transparency)\n",
    "    if shell_to_plot == shells_to_plot[0]:\n",
    "        ax1.annotate(f'Total coverage', ha = 'center', xy = (0.5, 1.03), xycoords = 'axes fraction', fontsize = 12)\n",
    "    ax1.annotate(f'{shell_top_depth} km -\\n{shell_bottom_depth} km', va = 'center', xy = (-0.4, 0.5), xycoords = 'axes fraction', fontsize = 12)\n",
    "    plot_idx += 1\n",
    "\n",
    "    ax2 = fig.add_subplot(len(shells_to_plot), 2, plot_idx, projection = ccrs.Robinson(central_longitude = central_lon))\n",
    "    ax2.set_global()\n",
    "    im2 = ax2.pcolormesh(lons, lats, az_cov, transform = ccrs.PlateCarree(), cmap = azimuthal_colormap, norm = sector_norm)\n",
    "    ax2.coastlines(alpha = coastline_transparency)\n",
    "    if shell_to_plot == shells_to_plot[0]:\n",
    "        ax2.annotate(f'Azimuthal sampling', ha = 'center', xy = (0.5, 1.03), xycoords = 'axes fraction', fontsize = 14)\n",
    "    plot_idx += 1\n",
    "    \n",
    "fig.suptitle(f'Total coverage and azimuthal sampling', fontsize = 18, fontweight = 'bold')\n",
    "\n",
    "# colorbar info:`\n",
    "cov_cbar_coverage = fig.colorbar(im1, ax = ax1, orientation = 'horizontal', shrink = 0.8, pad = 0.1, extend = 'max')\n",
    "cov_cbar_coverage.ax.tick_params(labelsize = 10)\n",
    "cov_cbar_coverage.ax.set_xlabel('# of paths', size = 12)\n",
    "\n",
    "sector_cbar_coverage = fig.colorbar(im2, ax = ax2, orientation = 'horizontal', shrink = 0.8, pad = 0.1, extend = 'neither')\n",
    "sector_cbar_coverage.set_ticks([0.5, 1.5, 2.5, 3.5, 4.5, 5.5, 6.5])\n",
    "sector_cbar_coverage.set_ticklabels(sector_bins[:-1])\n",
    "sector_cbar_coverage.ax.tick_params(labelsize = 10, size = 0)\n",
    "sector_cbar_coverage.ax.set_xlabel('# of sectors', size = 12);\n",
    "\n",
    "if save_png == True:\n",
    "    fig.savefig(f'./models/{type_of_model}/{model_to_plot}_update/{model_pid}_update/{model_to_plot}_coverage.png', transparent = True, dpi = 300)\n",
    "if save_svg == True:\n",
    "    fig.savefig(f'./models/{type_of_model}/{model_to_plot}_update/{model_pid}_update/{model_to_plot}_coverage.svg')"
   ]
  },
  {
   "cell_type": "code",
   "execution_count": null,
   "id": "b969fffd-a560-4157-aa78-3c089b42e999",
   "metadata": {
    "jupyter": {
     "source_hidden": true
    },
    "scrolled": true
   },
   "outputs": [],
   "source": [
    "%%time\n",
    "fig = plt.figure(figsize = (8.2, 10), constrained_layout = True)\n",
    "plot_idx = 1\n",
    "\n",
    "for shell in shells_to_plot:\n",
    "    df_starting_shell = pd.read_csv(f'./models/{type_of_model}/{model_to_plot}_update/{model_to_plot}_grid_registered.csv')\n",
    "    df_updated_shell = pd.read_csv(f'./models/{type_of_model}/{model_to_plot}_update/{model_pid}_update/{layer}/{iteration}/{model_to_plot}_updated_model_itr_{iteration.split(\"_\")[-1]}.csv')\n",
    "    \n",
    "    df_starting_shell = df_starting_shell.loc[df_starting_shell['SHELL#'] == shell]\n",
    "    df_updated_shell = df_updated_shell.loc[df_updated_shell['SHELL#'] == shell]\n",
    "\n",
    "    st_dvs = mod_plot.shell_grid_register(df_starting_shell, model_header, plot_increment, plot_increment)\n",
    "    up_dvs = mod_plot.shell_grid_register(df_updated_shell, model_header, plot_increment, plot_increment)\n",
    "    \n",
    "    diff_dvs = up_dvs - st_dvs\n",
    "    \n",
    "    shell_dims = mod_database.get_shell_info(shell)\n",
    "    shell_top_depth = shell_dims[1]\n",
    "    shell_bottom_depth = shell_dims[3]\n",
    "    \n",
    "    ax1 = fig.add_subplot(len(shells_to_plot), 3, plot_idx, projection = ccrs.Robinson(central_longitude = central_lon))\n",
    "    ax1.set_global()\n",
    "    im1 = ax1.pcolormesh(lons, lats, st_dvs, shading = 'flat', transform = ccrs.PlateCarree(), cmap = tomography_colormap, vmin = -bar_val, vmax = bar_val)\n",
    "    ax1.coastlines(alpha = coastline_transparency)\n",
    "    ax1.annotate(f'{shell_top_depth} km -\\n{shell_bottom_depth} km', va = 'center', xy = (-0.4, 0.5), xycoords = 'axes fraction', fontsize = 10)\n",
    "    ax1.annotate(f'{round(np.amin(st_dvs), 1)}%', xy = (0.05, 0.95), ha = 'center', xycoords = 'axes fraction', fontsize = 8)\n",
    "    ax1.annotate(f'{round(np.amax(st_dvs), 1)}%', xy = (0.95, 0.95), ha = 'center', xycoords = 'axes fraction', fontsize = 8)\n",
    "    if shell == shells_to_plot[0]:\n",
    "        ax1.annotate(f'Starting model', ha = 'center', xy = (0.5, 1.03), xycoords = 'axes fraction', fontsize = 10)\n",
    "    plot_idx += 1\n",
    "\n",
    "    ax2 = fig.add_subplot(len(shells_to_plot), 3, plot_idx, projection = ccrs.Robinson(central_longitude = central_lon))\n",
    "    ax2.set_global()\n",
    "    im2 = ax2.pcolormesh(lons, lats, diff_dvs, shading = 'flat', transform = ccrs.PlateCarree(), cmap = tomography_colormap, vmin = -bar_val, vmax = bar_val)\n",
    "    ax2.coastlines(alpha = coastline_transparency)\n",
    "    if shell == shells_to_plot[0]:\n",
    "        ax2.annotate(f'Model difference', ha = 'center', xy = (0.5, 1.03), xycoords = 'axes fraction', fontsize = 10)\n",
    "    plot_idx += 1\n",
    "\n",
    "    ax3 = fig.add_subplot(len(shells_to_plot), 3, plot_idx, projection = ccrs.Robinson(central_longitude = central_lon))\n",
    "    ax3.set_global()\n",
    "    im3 = ax3.pcolormesh(lons, lats, up_dvs, shading = 'flat', transform = ccrs.PlateCarree(), cmap = tomography_colormap, vmin = -bar_val, vmax = bar_val)\n",
    "    ax3.coastlines(alpha = coastline_transparency)\n",
    "    ax3.annotate(f'{round(np.amin(up_dvs), 1)}%', xy = (0.05, 0.95), ha = 'center', xycoords = 'axes fraction', fontsize = 8)\n",
    "    ax3.annotate(f'{round(np.amax(up_dvs), 1)}%', xy = (0.95, 0.95), ha = 'center', xycoords = 'axes fraction', fontsize = 8)\n",
    "    if shell == shells_to_plot[0]:\n",
    "        ax3.annotate(f'Solution model', ha = 'center', xy = (0.5, 1.03), xycoords = 'axes fraction', fontsize = 10)\n",
    "    plot_idx += 1\n",
    "\n",
    "fig.suptitle(f'Model {model_to_plot.split(\"_\")[0]}', fontsize = 14, fontweight = 'bold')\n",
    "cbar_tomo = fig.colorbar(im1, ax = [ax1, ax2, ax3], orientation = 'horizontal', shrink = 0.4, pad = 0.1, extend = 'both')\n",
    "cbar_tomo.ax.tick_params(labelsize = 10)\n",
    "\n",
    "if type_of_model == 'S':\n",
    "    cbar_tomo.ax.set_xlabel('dVs (%)', size = 10)\n",
    "elif type_of_model == 'P':\n",
    "    cbar_tomo.ax.set_xlabel('dVp (%)', size = 10)\n",
    ";\n",
    "\n",
    "if save_png == True:\n",
    "    fig.savefig(f'./models/{type_of_model}/{model_to_plot}_update/{model_pid}_update/{model_to_plot}_starting_difference_solution_{perturbation_colorbar_max}%_to_{perturbation_colorbar_min}%.png', transparent = True, dpi = 300)\n",
    "if save_svg == True:\n",
    "    fig.savefig(f'./models/{type_of_model}/{model_to_plot}_update/{model_pid}_update/{model_to_plot}_starting_difference_solution_{perturbation_colorbar_max}%_to_{perturbation_colorbar_min}%.svg')"
   ]
  },
  {
   "cell_type": "code",
   "execution_count": null,
   "id": "692b5906-e768-45cb-880d-2469eca73072",
   "metadata": {},
   "outputs": [],
   "source": []
  },
  {
   "cell_type": "code",
   "execution_count": null,
   "id": "5352a8f8-847c-4e82-ab06-77a01a76db0d",
   "metadata": {},
   "outputs": [],
   "source": []
  }
 ],
 "metadata": {
  "kernelspec": {
   "display_name": "sitrus",
   "language": "python",
   "name": "sitrus"
  },
  "language_info": {
   "codemirror_mode": {
    "name": "ipython",
    "version": 3
   },
   "file_extension": ".py",
   "mimetype": "text/x-python",
   "name": "python",
   "nbconvert_exporter": "python",
   "pygments_lexer": "ipython3",
   "version": "3.11.0"
  }
 },
 "nbformat": 4,
 "nbformat_minor": 5
}
